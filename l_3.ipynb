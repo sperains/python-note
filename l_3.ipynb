{
 "cells": [
  {
   "cell_type": "markdown",
   "metadata": {},
   "source": [
    "# list\n",
    "    - Python内置的一种数据类型。\n",
    "    - 有序的集合\n",
    "    - 可以随时添加和删除其中的元素"
   ]
  },
  {
   "cell_type": "code",
   "execution_count": 3,
   "metadata": {},
   "outputs": [
    {
     "name": "stdout",
     "output_type": "stream",
     "text": [
      "['Michel', 'Bob', 'Tracy']\n"
     ]
    }
   ],
   "source": [
    "classmates = ['Michel' , 'Bob' , 'Tracy']\n",
    "print(classmates);"
   ]
  },
  {
   "cell_type": "markdown",
   "metadata": {},
   "source": [
    "### 通过len()函数可以获取list元素的个数："
   ]
  },
  {
   "cell_type": "code",
   "execution_count": 5,
   "metadata": {},
   "outputs": [
    {
     "data": {
      "text/plain": [
       "3"
      ]
     },
     "execution_count": 5,
     "metadata": {},
     "output_type": "execute_result"
    }
   ],
   "source": [
    "len(classmates)"
   ]
  },
  {
   "cell_type": "markdown",
   "metadata": {},
   "source": [
    "### 用索引来访问list中每一个位置的元素，索引从0开始"
   ]
  },
  {
   "cell_type": "code",
   "execution_count": 7,
   "metadata": {},
   "outputs": [
    {
     "name": "stdout",
     "output_type": "stream",
     "text": [
      "Michel\n"
     ]
    }
   ],
   "source": [
    "# 第一个元素\n",
    "first = classmates[0]\n",
    "print(first)"
   ]
  },
  {
   "cell_type": "markdown",
   "metadata": {},
   "source": [
    "### 通过append()函数往list中追加元素到末尾\n",
    "### 通过insert()函数往list制定索引位置插入元素。\n",
    "### 通过pop()函数删除list中末尾的元素，pop(index)删除list中指定索引位置的元素。"
   ]
  },
  {
   "cell_type": "code",
   "execution_count": 17,
   "metadata": {},
   "outputs": [
    {
     "name": "stdout",
     "output_type": "stream",
     "text": [
      "['Michel', 'Tracy', 'Rains', 'Rains', 'Rains']\n"
     ]
    }
   ],
   "source": [
    "#添加一个新的元素\n",
    "#classmates.append('Rains');\n",
    "# print(classmates)\n",
    "\n",
    "# # 在索引为1的位置插入一个新元素 Luna\n",
    "# classmates.insert(1 , \"luna\");\n",
    "# print(classmates);\n",
    "\n",
    "# # 删除末尾的元素\n",
    "# classmates.pop();\n",
    "# print(classmates);\n",
    "\n",
    "# 删除制定位置的元素。\n",
    "classmates.pop(1);\n",
    "print(classmates);\n",
    "\n"
   ]
  },
  {
   "cell_type": "code",
   "execution_count": 19,
   "metadata": {},
   "outputs": [
    {
     "name": "stdout",
     "output_type": "stream",
     "text": [
      "Apple\n",
      "Python\n",
      "Lisa\n"
     ]
    }
   ],
   "source": [
    "L = [\n",
    "    ['Apple', 'Google', 'Microsoft'],\n",
    "    ['Java', 'Python', 'Ruby', 'PHP'],\n",
    "    ['Adam', 'Bart', 'Lisa']\n",
    "]\n",
    "\n",
    "# 打印Apple\n",
    "print(L[0][0]);\n",
    "# 打印Python\n",
    "print(L[1][1]);\n",
    "# 打印Lisa\n",
    "print(L[2][2]);"
   ]
  },
  {
   "cell_type": "markdown",
   "metadata": {},
   "source": [
    "## 条件判断"
   ]
  },
  {
   "cell_type": "code",
   "execution_count": 27,
   "metadata": {},
   "outputs": [
    {
     "name": "stdout",
     "output_type": "stream",
     "text": [
      "kid\n"
     ]
    }
   ],
   "source": [
    "age = 5\n",
    "if age > 18:\n",
    "    print(\"your age is\" , age)\n",
    "    print(\"adult\")\n",
    "elif age >= 10:\n",
    "    print(\"you age is\" , age )\n",
    "    print(\"teenager\")\n",
    "else :\n",
    "    print(\"kid\")"
   ]
  },
  {
   "cell_type": "code",
   "execution_count": null,
   "metadata": {},
   "outputs": [],
   "source": [
    "birth = input('birth: ')\n",
    "birth = int(birth);\n",
    "if birth < 2000:\n",
    "    print('00前')\n",
    "else:\n",
    "    print('00后')"
   ]
  },
  {
   "cell_type": "code",
   "execution_count": 1,
   "metadata": {},
   "outputs": [
    {
     "name": "stdout",
     "output_type": "stream",
     "text": [
      "['Michel', 'Bob', 'Tracy']\n",
      "Michel\n",
      "Bob\n",
      "Tracy\n"
     ]
    }
   ],
   "source": [
    "classmates = ['Michel' , 'Bob' , 'Tracy']\n",
    "print(classmates);\n",
    "for name in classmates:\n",
    "    print(name);"
   ]
  },
  {
   "cell_type": "code",
   "execution_count": 6,
   "metadata": {},
   "outputs": [
    {
     "name": "stdout",
     "output_type": "stream",
     "text": [
      "[0, 1, 2, 3, 4, 5]\n",
      "range(0, 6)\n",
      "[0, 1, 2, 3, 4, 5, 6, 7, 8, 9, 10, 11, 12, 13, 14, 15, 16, 17, 18, 19, 20, 21, 22, 23, 24, 25, 26, 27, 28, 29, 30, 31, 32, 33, 34, 35, 36, 37, 38, 39, 40, 41, 42, 43, 44, 45, 46, 47, 48, 49, 50, 51, 52, 53, 54, 55, 56, 57, 58, 59, 60, 61, 62, 63, 64, 65, 66, 67, 68, 69, 70, 71, 72, 73, 74, 75, 76, 77, 78, 79, 80, 81, 82, 83, 84, 85, 86, 87, 88, 89, 90, 91, 92, 93, 94, 95, 96, 97, 98, 99, 100]\n",
      "5050\n"
     ]
    }
   ],
   "source": [
    "a  = list(range(6))\n",
    "print(a)\n",
    "b  = range(6)\n",
    "print(b)\n",
    "c = list(range(101))\n",
    "print(c)\n",
    "sum = 0 \n",
    "for i in c:\n",
    "    sum += i\n",
    "print(sum)"
   ]
  },
  {
   "cell_type": "markdown",
   "metadata": {},
   "source": [
    "## dict\n",
    "    - Python内置了字典：dict，dict全称dictionary，其他语言中也叫map\n",
    "    - 查找和插入的速度极快，不会随着key的增加而变慢\n",
    "    - 需要占用大量的内存，内存浪费多\n",
    "    - dict是用空间来换取时间的一种方法\n",
    "    - 获取dict中的值，使用get()函数，使用key作为参数，若没有相应的值，则返回None\n",
    "    - 删除dict中的值，使用pop()函数"
   ]
  },
  {
   "cell_type": "code",
   "execution_count": 16,
   "metadata": {},
   "outputs": [
    {
     "name": "stdout",
     "output_type": "stream",
     "text": [
      "{'Rains': 95, 'Bob': 75}\n",
      "95\n",
      "None\n",
      "95\n",
      "{'Bob': 75}\n"
     ]
    }
   ],
   "source": [
    "d = {'Rains':95 , 'Bob':75}\n",
    "print(d)\n",
    "print(d['Rains'])\n",
    "print(d.get(\"rains\"))\n",
    "print(d.get(\"Rains\"))\n",
    "d.pop(\"Rains\")\n",
    "print(d)"
   ]
  },
  {
   "cell_type": "markdown",
   "metadata": {},
   "source": [
    "## set\n",
    "    - set和dict类似，也是key的集合，但不存储value。\n",
    "    - key不能重复\n",
    "    - 创建时需提供一个list作为输入集合\n",
    "    - 通过add(key)添加元素到set中，可以重复添加同一个元素，但不会有效果\n",
    "    - 通过remove(key)删除元素"
   ]
  },
  {
   "cell_type": "code",
   "execution_count": 20,
   "metadata": {},
   "outputs": [
    {
     "name": "stdout",
     "output_type": "stream",
     "text": [
      "{1, 2, 3}\n",
      "{1, 2, 3}\n",
      "{2, 3}\n"
     ]
    }
   ],
   "source": [
    "s = set([1,2,3])\n",
    "print(s)\n",
    "s.add(1)\n",
    "print(s)\n",
    "s.remove(1)\n",
    "print(s)"
   ]
  },
  {
   "cell_type": "markdown",
   "metadata": {},
   "source": [
    "## 内置函数\n",
    "    - all(iterable) 传入一个序列，若其中的每个元素的值都为True，则返回True，否则返回False\n",
    "    - any(iterable) 传入一个序列，若其中的任意一个元素为True，则返回True，否侧返回False\n",
    "    - bin(i) 传入一个数字，返回改数字的二进制\n",
    "    \n",
    "    "
   ]
  },
  {
   "cell_type": "code",
   "execution_count": 39,
   "metadata": {},
   "outputs": [
    {
     "name": "stdout",
     "output_type": "stream",
     "text": [
      "False\n",
      "True\n",
      "[True, True, True, False]\n",
      "False\n",
      "True\n",
      "0b10\n",
      "False\n",
      "61\n",
      "77\n"
     ]
    }
   ],
   "source": [
    "a = 2 \n",
    "print(not a )\n",
    "\n",
    "a = [True , True , not False]\n",
    "print(all(a))\n",
    "a.append(False)\n",
    "print(a)\n",
    "print(all(a))\n",
    "print(any(a))\n",
    "\n",
    "print(bin(2))\n",
    "\n",
    "print(bool(0))\n",
    "a = \"【华尔街在线】您有一笔新的订单：陈亮圣（13789696554）的20万的农商行优质房抵1号（说明内容）需要跟进，请知晓！\"\n",
    "print(len(a))\n",
    "b = \"【华尔街在线】您提报的订单：20万的农商行优质房抵1号已进入到受理环节（受理人：陈川 13789696554），客服及投诉电话：400-6268-777。\"\n",
    "print(len(b))"
   ]
  }
 ],
 "metadata": {
  "kernelspec": {
   "display_name": "Python 3",
   "language": "python",
   "name": "python3"
  },
  "language_info": {
   "codemirror_mode": {
    "name": "ipython",
    "version": 3
   },
   "file_extension": ".py",
   "mimetype": "text/x-python",
   "name": "python",
   "nbconvert_exporter": "python",
   "pygments_lexer": "ipython3",
   "version": "3.7.0"
  }
 },
 "nbformat": 4,
 "nbformat_minor": 2
}
