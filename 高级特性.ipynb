{
 "cells": [
  {
   "cell_type": "markdown",
   "metadata": {},
   "source": [
    "# 高级特性"
   ]
  },
  {
   "cell_type": "code",
   "execution_count": 2,
   "metadata": {},
   "outputs": [
    {
     "name": "stdout",
     "output_type": "stream",
     "text": [
      "[1, 3, 5, 7, 9, 11, 13, 15, 17, 19, 21, 23, 25, 27, 29, 31, 33, 35, 37, 39, 41, 43, 45, 47, 49, 51, 53, 55, 57, 59, 61, 63, 65, 67, 69, 71, 73, 75, 77, 79, 81, 83, 85, 87, 89, 91, 93, 95, 97, 99]\n"
     ]
    }
   ],
   "source": [
    "# 构造一个1,3,5,7,9.。。99的列表\n",
    "\n",
    "L = []\n",
    "n = 1\n",
    "while n <= 99:\n",
    "    L.append(n)\n",
    "    n+=2\n",
    "print(L)"
   ]
  },
  {
   "cell_type": "markdown",
   "metadata": {},
   "source": [
    "## 切片\n",
    "    - Python提供了切片操作符，\n",
    "    - L[0:3]表示从索引0开始取，直到索引3为止，但不包含索引3，即索引0,1,2,正好3个元素\n",
    "    - 如果第一个索引是0，还可以省略 L[:3]\n",
    "    - L[-1] 表示取倒数第一个元素\n",
    "    \n",
    "    - 字符串也可以看成一种list，其每个元素就是一个字符，因此也可以使用切片\n",
    "    "
   ]
  },
  {
   "cell_type": "code",
   "execution_count": 17,
   "metadata": {},
   "outputs": [
    {
     "name": "stdout",
     "output_type": "stream",
     "text": [
      "[1, 3, 5]\n",
      "[3, 5]\n",
      "99\n",
      "[81, 83, 85, 87, 89, 91, 93, 95, 97, 99]\n",
      "[1, 3, 5, 7, 9, 11, 13, 15, 17, 19, 21, 23, 25, 27, 29, 31, 33, 35, 37, 39, 41, 43, 45, 47, 49, 51, 53, 55, 57, 59, 61, 63, 65, 67, 69, 71, 73, 75, 77, 79, 81, 83, 85, 87, 89, 91, 93, 95, 97]\n",
      "[21, 23, 25, 27, 29, 31, 33, 35, 37, 39]\n",
      "[1, 5, 9, 13, 17]\n",
      "[1, 11, 21, 31, 41, 51, 61, 71, 81, 91]\n",
      "hello\n",
      "5\n",
      "hello hello\n"
     ]
    }
   ],
   "source": [
    "#取一个list中的前3个元素\n",
    "a = L[0:3]\n",
    "print(a)\n",
    "\n",
    "# 从索引1的位置开始取，一直取到索引3的位置。\n",
    "b = L[1:3]\n",
    "print(b)\n",
    "\n",
    "# 取倒数第一个元素\n",
    "last = L[-1]\n",
    "print(last)\n",
    "\n",
    "# 取后10个数。\n",
    "last10 = L[-10:]\n",
    "print(last10)\n",
    "\n",
    "# 除了最后一个的数\n",
    "e = L[0:-1]\n",
    "print(e)\n",
    "\n",
    "# 取前11-20个数\n",
    "pre11_20 = L[10:20]\n",
    "print(pre11_20)\n",
    "\n",
    "# 取前10个数，每两个取一个\n",
    "d = L[:10:2]\n",
    "print(d)\n",
    "\n",
    "# 所有数，每5个取一个\n",
    "c = L[::5]\n",
    "print(c)\n",
    "\n",
    "# 联系：使用切片实现trim函数，去除字符串中首尾空格\n",
    "def trim(s):\n",
    "    if s[0] == ' ':\n",
    "        s = s[1:]\n",
    "    if s[-1] == ' ':\n",
    "        s = s[0:-1]\n",
    "    return s\n",
    "\n",
    "print(trim(' hello'))\n",
    "print(len(trim(' hello')))\n",
    "\n",
    "print(trim(' hello hello '))"
   ]
  },
  {
   "cell_type": "markdown",
   "metadata": {},
   "source": [
    "## 迭代\n",
    "    - 如果给定一个list或者tuple，我们可以通过for循环来遍历它，这种方式我们称之为迭代\n",
    "    - iteration\n",
    "    - 在python中迭代通过 for ... in 来实现\n",
    "    \n",
    "    - 因为dict的存储不是按照list的方式顺序排序，所以每次迭代的结果可能不一样\n",
    "    - 默认情况下dict迭代的是key，如果要迭代value，可以用for value in d.values(),如果要同时迭代key和value，可以用for k,v in d.items()\n",
    "    \n",
    "    - 通过enumerate()函数可以把一个list变成索引-元素对，这样就可以在for循环中同时迭代索引和元素本身。"
   ]
  },
  {
   "cell_type": "code",
   "execution_count": 28,
   "metadata": {},
   "outputs": [
    {
     "name": "stdout",
     "output_type": "stream",
     "text": [
      "{'name': 'rains', 'age': 28}\n",
      "rains\n",
      "28\n",
      "name rains\n",
      "age 28\n",
      "0 1\n",
      "1 3\n",
      "2 5\n",
      "3 7\n",
      "4 9\n",
      "5 11\n",
      "6 13\n",
      "7 15\n",
      "8 17\n",
      "9 19\n",
      "10 21\n",
      "11 23\n",
      "12 25\n",
      "13 27\n",
      "14 29\n",
      "15 31\n",
      "16 33\n",
      "17 35\n",
      "18 37\n",
      "19 39\n",
      "20 41\n",
      "21 43\n",
      "22 45\n",
      "23 47\n",
      "24 49\n",
      "25 51\n",
      "26 53\n",
      "27 55\n",
      "28 57\n",
      "29 59\n",
      "30 61\n",
      "31 63\n",
      "32 65\n",
      "33 67\n",
      "34 69\n",
      "35 71\n",
      "36 73\n",
      "37 75\n",
      "38 77\n",
      "39 79\n",
      "40 81\n",
      "41 83\n",
      "42 85\n",
      "43 87\n",
      "44 89\n",
      "45 91\n",
      "46 93\n",
      "47 95\n",
      "48 97\n",
      "49 99\n"
     ]
    }
   ],
   "source": [
    "d = {'name':'rains','age':28}\n",
    "print(d)\n",
    "\n",
    "# 遍历d中的value\n",
    "for value in d.values():\n",
    "    print(value)\n",
    "# 遍历key和value\n",
    "for key,value in d.items():\n",
    "    print(key,value)\n",
    "\n",
    "for i , value in enumerate(L):\n",
    "    print(i,value)"
   ]
  },
  {
   "cell_type": "markdown",
   "metadata": {},
   "source": [
    "## 列表生成式\n",
    "    - list Comprehensions\n",
    "    - 是Python内置的用来创建list的生成式"
   ]
  },
  {
   "cell_type": "code",
   "execution_count": 40,
   "metadata": {},
   "outputs": [
    {
     "name": "stdout",
     "output_type": "stream",
     "text": [
      "[1, 2, 3, 4, 5, 6, 7, 8, 9, 10]\n",
      "[1, 4, 9, 16, 25, 36, 49, 64, 81, 100]\n",
      "[4, 16, 36, 64, 100]\n",
      "['AX', 'AY', 'AZ', 'BX', 'BY', 'BZ', 'CX', 'CY', 'CZ']\n",
      "['.git', '.ipynb_checkpoints', 'function.ipynb', 'l_3.ipynb', '递归函数.ipynb', '高级特性.ipynb']\n",
      "['name=rains', 'age=24']\n"
     ]
    }
   ],
   "source": [
    "# 生成list[1,2,3,4,5,6,7,8,9,10]\n",
    "a = list(range(1,11))\n",
    "print(a)\n",
    "\n",
    "# 生成1*1,2*2,3*3 ....\n",
    "a = [x * x for x in range(1,11)]\n",
    "print(a)\n",
    "# 注意： 写列表生成式时，需要把生成的元素x*x放在前面\n",
    "\n",
    "# for循环后面还可以加上if判断，从而对列表进行筛选\n",
    "a = [x * x for x in range(1,11) if x % 2 == 0]\n",
    "print(a)\n",
    "\n",
    "# 可以使用多层循环\n",
    "a = [ m + n for m in 'ABC' for n in 'XYZ']\n",
    "print(a)\n",
    "\n",
    "\n",
    "import os\n",
    "d = [x for x in os.listdir('.')]\n",
    "print(d)\n",
    "\n",
    "# 列表生成式可以使用两个变量来生成list\n",
    "d = [ k + '=' + v for k, v in {'name':'rains','age':'24'}.items()]\n",
    "print(d)"
   ]
  },
  {
   "cell_type": "markdown",
   "metadata": {},
   "source": [
    "## 生成器\n",
    "    - 不直接生成列表，而是在需要的时候一边循环一边计算"
   ]
  },
  {
   "cell_type": "code",
   "execution_count": 46,
   "metadata": {},
   "outputs": [
    {
     "name": "stdout",
     "output_type": "stream",
     "text": [
      "0\n",
      "1\n",
      "4\n",
      "[1, 2, 3, 4, 5, 6, 7, 8, 9]\n"
     ]
    }
   ],
   "source": [
    "L = (x * x for x in range(10))\n",
    "print(next(L))\n",
    "print(next(L))\n",
    "print(next(L))\n",
    "\n",
    "range(1,10)\n",
    "print(list(range(1,10)))"
   ]
  }
 ],
 "metadata": {
  "kernelspec": {
   "display_name": "Python 3",
   "language": "python",
   "name": "python3"
  },
  "language_info": {
   "codemirror_mode": {
    "name": "ipython",
    "version": 3
   },
   "file_extension": ".py",
   "mimetype": "text/x-python",
   "name": "python",
   "nbconvert_exporter": "python",
   "pygments_lexer": "ipython3",
   "version": "3.7.0"
  }
 },
 "nbformat": 4,
 "nbformat_minor": 2
}
