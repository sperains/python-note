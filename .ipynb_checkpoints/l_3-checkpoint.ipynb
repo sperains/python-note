{
 "cells": [
  {
   "cell_type": "markdown",
   "metadata": {},
   "source": [
    "# list\n",
    "    - Python内置的一种数据类型。\n",
    "    - 有序的集合\n",
    "    - 可以随时添加和删除其中的元素"
   ]
  },
  {
   "cell_type": "code",
   "execution_count": 3,
   "metadata": {},
   "outputs": [
    {
     "name": "stdout",
     "output_type": "stream",
     "text": [
      "['Michel', 'Bob', 'Tracy']\n"
     ]
    }
   ],
   "source": [
    "classmates = ['Michel' , 'Bob' , 'Tracy']\n",
    "print(classmates);"
   ]
  },
  {
   "cell_type": "markdown",
   "metadata": {},
   "source": [
    "### 通过len()函数可以获取list元素的个数："
   ]
  },
  {
   "cell_type": "code",
   "execution_count": 5,
   "metadata": {},
   "outputs": [
    {
     "data": {
      "text/plain": [
       "3"
      ]
     },
     "execution_count": 5,
     "metadata": {},
     "output_type": "execute_result"
    }
   ],
   "source": [
    "len(classmates)"
   ]
  },
  {
   "cell_type": "markdown",
   "metadata": {},
   "source": [
    "### 用索引来访问list中每一个位置的元素，索引从0开始"
   ]
  },
  {
   "cell_type": "code",
   "execution_count": 7,
   "metadata": {},
   "outputs": [
    {
     "name": "stdout",
     "output_type": "stream",
     "text": [
      "Michel\n"
     ]
    }
   ],
   "source": [
    "# 第一个元素\n",
    "first = classmates[0]\n",
    "print(first)"
   ]
  },
  {
   "cell_type": "markdown",
   "metadata": {},
   "source": [
    "### 通过append()函数往list中追加元素到末尾\n",
    "### 通过insert()函数往list制定索引位置插入元素。\n",
    "### 通过pop()函数删除list中末尾的元素，pop(index)删除list中指定索引位置的元素。"
   ]
  },
  {
   "cell_type": "code",
   "execution_count": 17,
   "metadata": {},
   "outputs": [
    {
     "name": "stdout",
     "output_type": "stream",
     "text": [
      "['Michel', 'Tracy', 'Rains', 'Rains', 'Rains']\n"
     ]
    }
   ],
   "source": [
    "#添加一个新的元素\n",
    "#classmates.append('Rains');\n",
    "# print(classmates)\n",
    "\n",
    "# # 在索引为1的位置插入一个新元素 Luna\n",
    "# classmates.insert(1 , \"luna\");\n",
    "# print(classmates);\n",
    "\n",
    "# # 删除末尾的元素\n",
    "# classmates.pop();\n",
    "# print(classmates);\n",
    "\n",
    "# 删除制定位置的元素。\n",
    "classmates.pop(1);\n",
    "print(classmates);\n",
    "\n"
   ]
  },
  {
   "cell_type": "code",
   "execution_count": null,
   "metadata": {},
   "outputs": [],
   "source": []
  }
 ],
 "metadata": {
  "kernelspec": {
   "display_name": "Python 3",
   "language": "python",
   "name": "python3"
  },
  "language_info": {
   "codemirror_mode": {
    "name": "ipython",
    "version": 3
   },
   "file_extension": ".py",
   "mimetype": "text/x-python",
   "name": "python",
   "nbconvert_exporter": "python",
   "pygments_lexer": "ipython3",
   "version": "3.7.0"
  }
 },
 "nbformat": 4,
 "nbformat_minor": 2
}
