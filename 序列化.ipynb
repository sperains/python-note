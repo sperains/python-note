{
 "cells": [
  {
   "cell_type": "markdown",
   "metadata": {},
   "source": [
    "# 序列化"
   ]
  },
  {
   "cell_type": "code",
   "execution_count": 18,
   "metadata": {},
   "outputs": [
    {
     "name": "stdout",
     "output_type": "stream",
     "text": [
      "<__main__.Student object at 0x0000018D2790C860>\n",
      "{\"name\": \"rains\", \"age\": 28, \"score\": 100}\n"
     ]
    }
   ],
   "source": [
    "import json\n",
    "class Student(object):\n",
    "    def __init__(self, name, age, score):\n",
    "        self.name = name\n",
    "        self.age = age\n",
    "        self.score = score\n",
    "    \n",
    "    def student2dict(std):\n",
    "        return {\n",
    "            'name':std.name,\n",
    "            'age':std.age,\n",
    "            'score':std.score\n",
    "        }\n",
    "        \n",
    "s = Student('rains', 28, 100);\n",
    "print(s)\n",
    "\n",
    "print(json.dumps(s, default=lambda obj: obj.__dict__))\n",
    "\n"
   ]
  }
 ],
 "metadata": {
  "kernelspec": {
   "display_name": "Python 3",
   "language": "python",
   "name": "python3"
  },
  "language_info": {
   "codemirror_mode": {
    "name": "ipython",
    "version": 3
   },
   "file_extension": ".py",
   "mimetype": "text/x-python",
   "name": "python",
   "nbconvert_exporter": "python",
   "pygments_lexer": "ipython3",
   "version": "3.7.0"
  }
 },
 "nbformat": 4,
 "nbformat_minor": 2
}
