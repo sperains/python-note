{
 "cells": [
  {
   "cell_type": "markdown",
   "metadata": {},
   "source": [
    "# 使用SQLite"
   ]
  },
  {
   "cell_type": "code",
   "execution_count": 13,
   "metadata": {},
   "outputs": [
    {
     "name": "stdout",
     "output_type": "stream",
     "text": [
      "<sqlite3.Connection object at 0x0000014C07FB5E30>\n",
      "<sqlite3.Connection object at 0x0000014C07FB5E30>\n"
     ]
    }
   ],
   "source": [
    "import sqlite3\n",
    "\n",
    "# 创建一个sqlite的链接，如果sqlite文件不存在，会自动在当前目录创建\n",
    "# conn = sqlite3.connect('test.db')\n",
    "\n",
    "# # 创建一个cursor\n",
    "# cursor = conn.cursor()\n",
    "\n",
    "# # 执行一条sql语句\n",
    "# #cursor.execute('create table user(id varchar(20) primary key , name varchar(20))')\n",
    "\n",
    "# #cursor.execute('insert into user(id, name) values(\"1\",\"rains\")')\n",
    "\n",
    "# # cursor.rowcount\n",
    "\n",
    "# # cursor.close()\n",
    "\n",
    "# # conn.commit()\n",
    "\n",
    "# # conn.close()\n",
    "\n",
    "# cursor.execute('select * from user')\n",
    "\n",
    "# values = cursor.fetchall()\n",
    "\n",
    "# print(values)\n",
    "\n",
    "# cursor.close()\n",
    "# conn.close()\n"
   ]
  }
 ],
 "metadata": {
  "kernelspec": {
   "display_name": "Python 3",
   "language": "python",
   "name": "python3"
  },
  "language_info": {
   "codemirror_mode": {
    "name": "ipython",
    "version": 3
   },
   "file_extension": ".py",
   "mimetype": "text/x-python",
   "name": "python",
   "nbconvert_exporter": "python",
   "pygments_lexer": "ipython3",
   "version": "3.7.0"
  }
 },
 "nbformat": 4,
 "nbformat_minor": 2
}
